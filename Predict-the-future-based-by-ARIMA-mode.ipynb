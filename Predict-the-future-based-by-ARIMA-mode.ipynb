{
 "cells": [
  {
   "cell_type": "markdown",
   "id": "af9622c1",
   "metadata": {},
   "source": [
    "# "
   ]
  },
  {
   "cell_type": "code",
   "execution_count": 1,
   "id": "37ee4d79",
   "metadata": {},
   "outputs": [],
   "source": [
    "import numpy as np\n",
    "import pandas as pd \n",
    "import matplotlib.pyplot as plt"
   ]
  },
  {
   "cell_type": "code",
   "execution_count": 2,
   "id": "62f9a9e7",
   "metadata": {},
   "outputs": [],
   "source": [
    "from statsmodels.tsa.stattools import adfuller "
   ]
  },
  {
   "cell_type": "code",
   "execution_count": 3,
   "id": "7ad5dc9d",
   "metadata": {},
   "outputs": [],
   "source": [
    "from statsmodels.stats.diagnostic import het_white\n",
    "from statsmodels.stats.stattools import durbin_watson\n",
    "from statsmodels.graphics.tsaplots import plot_acf,plot_pacf"
   ]
  },
  {
   "cell_type": "code",
   "execution_count": 4,
   "id": "4edc48f7",
   "metadata": {},
   "outputs": [],
   "source": [
    "import os"
   ]
  },
  {
   "cell_type": "code",
   "execution_count": 5,
   "id": "1d756d01",
   "metadata": {},
   "outputs": [
    {
     "data": {
      "text/plain": [
       "'C:\\\\Users\\\\Balaji.N\\\\Favorites\\\\data science'"
      ]
     },
     "execution_count": 5,
     "metadata": {},
     "output_type": "execute_result"
    }
   ],
   "source": [
    "pwd"
   ]
  },
  {
   "cell_type": "code",
   "execution_count": 6,
   "id": "df768e0c",
   "metadata": {},
   "outputs": [],
   "source": [
    "df = pd.read_csv('D://Downloads/AirPassengers.csv')# extering the data "
   ]
  },
  {
   "cell_type": "code",
   "execution_count": 7,
   "id": "6fd41d17",
   "metadata": {},
   "outputs": [
    {
     "data": {
      "text/html": [
       "<div>\n",
       "<style scoped>\n",
       "    .dataframe tbody tr th:only-of-type {\n",
       "        vertical-align: middle;\n",
       "    }\n",
       "\n",
       "    .dataframe tbody tr th {\n",
       "        vertical-align: top;\n",
       "    }\n",
       "\n",
       "    .dataframe thead th {\n",
       "        text-align: right;\n",
       "    }\n",
       "</style>\n",
       "<table border=\"1\" class=\"dataframe\">\n",
       "  <thead>\n",
       "    <tr style=\"text-align: right;\">\n",
       "      <th></th>\n",
       "      <th>Month</th>\n",
       "      <th>#Passengers</th>\n",
       "    </tr>\n",
       "  </thead>\n",
       "  <tbody>\n",
       "    <tr>\n",
       "      <th>0</th>\n",
       "      <td>1949-01</td>\n",
       "      <td>112</td>\n",
       "    </tr>\n",
       "    <tr>\n",
       "      <th>1</th>\n",
       "      <td>1949-02</td>\n",
       "      <td>118</td>\n",
       "    </tr>\n",
       "    <tr>\n",
       "      <th>2</th>\n",
       "      <td>1949-03</td>\n",
       "      <td>132</td>\n",
       "    </tr>\n",
       "    <tr>\n",
       "      <th>3</th>\n",
       "      <td>1949-04</td>\n",
       "      <td>129</td>\n",
       "    </tr>\n",
       "    <tr>\n",
       "      <th>4</th>\n",
       "      <td>1949-05</td>\n",
       "      <td>121</td>\n",
       "    </tr>\n",
       "    <tr>\n",
       "      <th>...</th>\n",
       "      <td>...</td>\n",
       "      <td>...</td>\n",
       "    </tr>\n",
       "    <tr>\n",
       "      <th>139</th>\n",
       "      <td>1960-08</td>\n",
       "      <td>606</td>\n",
       "    </tr>\n",
       "    <tr>\n",
       "      <th>140</th>\n",
       "      <td>1960-09</td>\n",
       "      <td>508</td>\n",
       "    </tr>\n",
       "    <tr>\n",
       "      <th>141</th>\n",
       "      <td>1960-10</td>\n",
       "      <td>461</td>\n",
       "    </tr>\n",
       "    <tr>\n",
       "      <th>142</th>\n",
       "      <td>1960-11</td>\n",
       "      <td>390</td>\n",
       "    </tr>\n",
       "    <tr>\n",
       "      <th>143</th>\n",
       "      <td>1960-12</td>\n",
       "      <td>432</td>\n",
       "    </tr>\n",
       "  </tbody>\n",
       "</table>\n",
       "<p>144 rows × 2 columns</p>\n",
       "</div>"
      ],
      "text/plain": [
       "       Month  #Passengers\n",
       "0    1949-01          112\n",
       "1    1949-02          118\n",
       "2    1949-03          132\n",
       "3    1949-04          129\n",
       "4    1949-05          121\n",
       "..       ...          ...\n",
       "139  1960-08          606\n",
       "140  1960-09          508\n",
       "141  1960-10          461\n",
       "142  1960-11          390\n",
       "143  1960-12          432\n",
       "\n",
       "[144 rows x 2 columns]"
      ]
     },
     "execution_count": 7,
     "metadata": {},
     "output_type": "execute_result"
    }
   ],
   "source": [
    "df"
   ]
  },
  {
   "cell_type": "code",
   "execution_count": 8,
   "id": "4066bf49",
   "metadata": {},
   "outputs": [
    {
     "data": {
      "text/plain": [
       "0     1949-01-01\n",
       "1     1949-02-01\n",
       "2     1949-03-01\n",
       "3     1949-04-01\n",
       "4     1949-05-01\n",
       "         ...    \n",
       "139   1960-08-01\n",
       "140   1960-09-01\n",
       "141   1960-10-01\n",
       "142   1960-11-01\n",
       "143   1960-12-01\n",
       "Name: Month, Length: 144, dtype: datetime64[ns]"
      ]
     },
     "execution_count": 8,
     "metadata": {},
     "output_type": "execute_result"
    }
   ],
   "source": [
    "pd.to_datetime(df['Month']) "
   ]
  },
  {
   "cell_type": "code",
   "execution_count": 9,
   "id": "04afcc97",
   "metadata": {},
   "outputs": [],
   "source": [
    "df.set_index(pd.to_datetime(df['Month']), inplace=True) #formeting the yyyy-mm to yyyy-mm-dd "
   ]
  },
  {
   "cell_type": "code",
   "execution_count": 10,
   "id": "e7481106",
   "metadata": {},
   "outputs": [],
   "source": [
    "df.drop('Month', axis=1, inplace=True)"
   ]
  },
  {
   "cell_type": "code",
   "execution_count": 11,
   "id": "a263571c",
   "metadata": {},
   "outputs": [],
   "source": [
    "df.rename(columns={'#Passengers':'pass'}, inplace=True)"
   ]
  },
  {
   "cell_type": "code",
   "execution_count": 12,
   "id": "66fe5cea",
   "metadata": {},
   "outputs": [
    {
     "data": {
      "text/html": [
       "<div>\n",
       "<style scoped>\n",
       "    .dataframe tbody tr th:only-of-type {\n",
       "        vertical-align: middle;\n",
       "    }\n",
       "\n",
       "    .dataframe tbody tr th {\n",
       "        vertical-align: top;\n",
       "    }\n",
       "\n",
       "    .dataframe thead th {\n",
       "        text-align: right;\n",
       "    }\n",
       "</style>\n",
       "<table border=\"1\" class=\"dataframe\">\n",
       "  <thead>\n",
       "    <tr style=\"text-align: right;\">\n",
       "      <th></th>\n",
       "      <th>pass</th>\n",
       "    </tr>\n",
       "    <tr>\n",
       "      <th>Month</th>\n",
       "      <th></th>\n",
       "    </tr>\n",
       "  </thead>\n",
       "  <tbody>\n",
       "    <tr>\n",
       "      <th>1949-01-01</th>\n",
       "      <td>112</td>\n",
       "    </tr>\n",
       "    <tr>\n",
       "      <th>1949-02-01</th>\n",
       "      <td>118</td>\n",
       "    </tr>\n",
       "    <tr>\n",
       "      <th>1949-03-01</th>\n",
       "      <td>132</td>\n",
       "    </tr>\n",
       "    <tr>\n",
       "      <th>1949-04-01</th>\n",
       "      <td>129</td>\n",
       "    </tr>\n",
       "    <tr>\n",
       "      <th>1949-05-01</th>\n",
       "      <td>121</td>\n",
       "    </tr>\n",
       "    <tr>\n",
       "      <th>...</th>\n",
       "      <td>...</td>\n",
       "    </tr>\n",
       "    <tr>\n",
       "      <th>1960-08-01</th>\n",
       "      <td>606</td>\n",
       "    </tr>\n",
       "    <tr>\n",
       "      <th>1960-09-01</th>\n",
       "      <td>508</td>\n",
       "    </tr>\n",
       "    <tr>\n",
       "      <th>1960-10-01</th>\n",
       "      <td>461</td>\n",
       "    </tr>\n",
       "    <tr>\n",
       "      <th>1960-11-01</th>\n",
       "      <td>390</td>\n",
       "    </tr>\n",
       "    <tr>\n",
       "      <th>1960-12-01</th>\n",
       "      <td>432</td>\n",
       "    </tr>\n",
       "  </tbody>\n",
       "</table>\n",
       "<p>144 rows × 1 columns</p>\n",
       "</div>"
      ],
      "text/plain": [
       "            pass\n",
       "Month           \n",
       "1949-01-01   112\n",
       "1949-02-01   118\n",
       "1949-03-01   132\n",
       "1949-04-01   129\n",
       "1949-05-01   121\n",
       "...          ...\n",
       "1960-08-01   606\n",
       "1960-09-01   508\n",
       "1960-10-01   461\n",
       "1960-11-01   390\n",
       "1960-12-01   432\n",
       "\n",
       "[144 rows x 1 columns]"
      ]
     },
     "execution_count": 12,
     "metadata": {},
     "output_type": "execute_result"
    }
   ],
   "source": [
    "df"
   ]
  },
  {
   "cell_type": "code",
   "execution_count": 13,
   "id": "e9bf40e9",
   "metadata": {},
   "outputs": [
    {
     "data": {
      "text/plain": [
       "0.991880243437641"
      ]
     },
     "execution_count": 13,
     "metadata": {},
     "output_type": "execute_result"
    }
   ],
   "source": [
    "adfuller(df)[1]"
   ]
  },
  {
   "cell_type": "code",
   "execution_count": 14,
   "id": "fb8c5fc4",
   "metadata": {},
   "outputs": [
    {
     "data": {
      "text/html": [
       "<div>\n",
       "<style scoped>\n",
       "    .dataframe tbody tr th:only-of-type {\n",
       "        vertical-align: middle;\n",
       "    }\n",
       "\n",
       "    .dataframe tbody tr th {\n",
       "        vertical-align: top;\n",
       "    }\n",
       "\n",
       "    .dataframe thead th {\n",
       "        text-align: right;\n",
       "    }\n",
       "</style>\n",
       "<table border=\"1\" class=\"dataframe\">\n",
       "  <thead>\n",
       "    <tr style=\"text-align: right;\">\n",
       "      <th></th>\n",
       "      <th>pass</th>\n",
       "    </tr>\n",
       "    <tr>\n",
       "      <th>Month</th>\n",
       "      <th></th>\n",
       "    </tr>\n",
       "  </thead>\n",
       "  <tbody>\n",
       "    <tr>\n",
       "      <th>1949-01-01</th>\n",
       "      <td>118.0</td>\n",
       "    </tr>\n",
       "    <tr>\n",
       "      <th>1949-02-01</th>\n",
       "      <td>132.0</td>\n",
       "    </tr>\n",
       "    <tr>\n",
       "      <th>1949-03-01</th>\n",
       "      <td>129.0</td>\n",
       "    </tr>\n",
       "    <tr>\n",
       "      <th>1949-04-01</th>\n",
       "      <td>121.0</td>\n",
       "    </tr>\n",
       "    <tr>\n",
       "      <th>1949-05-01</th>\n",
       "      <td>135.0</td>\n",
       "    </tr>\n",
       "    <tr>\n",
       "      <th>...</th>\n",
       "      <td>...</td>\n",
       "    </tr>\n",
       "    <tr>\n",
       "      <th>1960-08-01</th>\n",
       "      <td>508.0</td>\n",
       "    </tr>\n",
       "    <tr>\n",
       "      <th>1960-09-01</th>\n",
       "      <td>461.0</td>\n",
       "    </tr>\n",
       "    <tr>\n",
       "      <th>1960-10-01</th>\n",
       "      <td>390.0</td>\n",
       "    </tr>\n",
       "    <tr>\n",
       "      <th>1960-11-01</th>\n",
       "      <td>432.0</td>\n",
       "    </tr>\n",
       "    <tr>\n",
       "      <th>1960-12-01</th>\n",
       "      <td>NaN</td>\n",
       "    </tr>\n",
       "  </tbody>\n",
       "</table>\n",
       "<p>144 rows × 1 columns</p>\n",
       "</div>"
      ],
      "text/plain": [
       "             pass\n",
       "Month            \n",
       "1949-01-01  118.0\n",
       "1949-02-01  132.0\n",
       "1949-03-01  129.0\n",
       "1949-04-01  121.0\n",
       "1949-05-01  135.0\n",
       "...           ...\n",
       "1960-08-01  508.0\n",
       "1960-09-01  461.0\n",
       "1960-10-01  390.0\n",
       "1960-11-01  432.0\n",
       "1960-12-01    NaN\n",
       "\n",
       "[144 rows x 1 columns]"
      ]
     },
     "execution_count": 14,
     "metadata": {},
     "output_type": "execute_result"
    }
   ],
   "source": [
    "df.shift(-1) # when we shift values is fixed number it will become nan values for  mention coloum number  ex:shift(1)\n",
    "                   # in shift (-1 ) it will be show last value is nan"
   ]
  },
  {
   "cell_type": "code",
   "execution_count": 16,
   "id": "9f0bed44",
   "metadata": {},
   "outputs": [
    {
     "data": {
      "text/html": [
       "<div>\n",
       "<style scoped>\n",
       "    .dataframe tbody tr th:only-of-type {\n",
       "        vertical-align: middle;\n",
       "    }\n",
       "\n",
       "    .dataframe tbody tr th {\n",
       "        vertical-align: top;\n",
       "    }\n",
       "\n",
       "    .dataframe thead th {\n",
       "        text-align: right;\n",
       "    }\n",
       "</style>\n",
       "<table border=\"1\" class=\"dataframe\">\n",
       "  <thead>\n",
       "    <tr style=\"text-align: right;\">\n",
       "      <th></th>\n",
       "      <th>pass</th>\n",
       "    </tr>\n",
       "    <tr>\n",
       "      <th>Month</th>\n",
       "      <th></th>\n",
       "    </tr>\n",
       "  </thead>\n",
       "  <tbody>\n",
       "    <tr>\n",
       "      <th>1949-01-01</th>\n",
       "      <td>-6.0</td>\n",
       "    </tr>\n",
       "    <tr>\n",
       "      <th>1949-02-01</th>\n",
       "      <td>-14.0</td>\n",
       "    </tr>\n",
       "    <tr>\n",
       "      <th>1949-03-01</th>\n",
       "      <td>3.0</td>\n",
       "    </tr>\n",
       "    <tr>\n",
       "      <th>1949-04-01</th>\n",
       "      <td>8.0</td>\n",
       "    </tr>\n",
       "    <tr>\n",
       "      <th>1949-05-01</th>\n",
       "      <td>-14.0</td>\n",
       "    </tr>\n",
       "    <tr>\n",
       "      <th>...</th>\n",
       "      <td>...</td>\n",
       "    </tr>\n",
       "    <tr>\n",
       "      <th>1960-08-01</th>\n",
       "      <td>98.0</td>\n",
       "    </tr>\n",
       "    <tr>\n",
       "      <th>1960-09-01</th>\n",
       "      <td>47.0</td>\n",
       "    </tr>\n",
       "    <tr>\n",
       "      <th>1960-10-01</th>\n",
       "      <td>71.0</td>\n",
       "    </tr>\n",
       "    <tr>\n",
       "      <th>1960-11-01</th>\n",
       "      <td>-42.0</td>\n",
       "    </tr>\n",
       "    <tr>\n",
       "      <th>1960-12-01</th>\n",
       "      <td>NaN</td>\n",
       "    </tr>\n",
       "  </tbody>\n",
       "</table>\n",
       "<p>144 rows × 1 columns</p>\n",
       "</div>"
      ],
      "text/plain": [
       "            pass\n",
       "Month           \n",
       "1949-01-01  -6.0\n",
       "1949-02-01 -14.0\n",
       "1949-03-01   3.0\n",
       "1949-04-01   8.0\n",
       "1949-05-01 -14.0\n",
       "...          ...\n",
       "1960-08-01  98.0\n",
       "1960-09-01  47.0\n",
       "1960-10-01  71.0\n",
       "1960-11-01 -42.0\n",
       "1960-12-01   NaN\n",
       "\n",
       "[144 rows x 1 columns]"
      ]
     },
     "execution_count": 16,
     "metadata": {},
     "output_type": "execute_result"
    }
   ],
   "source": [
    "D1=df-df.shift(-1) # first order of different \n",
    "D1"
   ]
  },
  {
   "cell_type": "code",
   "execution_count": 17,
   "id": "7180a7e7",
   "metadata": {},
   "outputs": [],
   "source": [
    "D1.dropna(inplace=True)"
   ]
  },
  {
   "cell_type": "code",
   "execution_count": 19,
   "id": "6d930fa1",
   "metadata": {},
   "outputs": [
    {
     "data": {
      "text/html": [
       "<div>\n",
       "<style scoped>\n",
       "    .dataframe tbody tr th:only-of-type {\n",
       "        vertical-align: middle;\n",
       "    }\n",
       "\n",
       "    .dataframe tbody tr th {\n",
       "        vertical-align: top;\n",
       "    }\n",
       "\n",
       "    .dataframe thead th {\n",
       "        text-align: right;\n",
       "    }\n",
       "</style>\n",
       "<table border=\"1\" class=\"dataframe\">\n",
       "  <thead>\n",
       "    <tr style=\"text-align: right;\">\n",
       "      <th></th>\n",
       "      <th>pass</th>\n",
       "    </tr>\n",
       "    <tr>\n",
       "      <th>Month</th>\n",
       "      <th></th>\n",
       "    </tr>\n",
       "  </thead>\n",
       "  <tbody>\n",
       "    <tr>\n",
       "      <th>1949-01-01</th>\n",
       "      <td>NaN</td>\n",
       "    </tr>\n",
       "    <tr>\n",
       "      <th>1949-02-01</th>\n",
       "      <td>NaN</td>\n",
       "    </tr>\n",
       "    <tr>\n",
       "      <th>1949-03-01</th>\n",
       "      <td>-5.666667</td>\n",
       "    </tr>\n",
       "    <tr>\n",
       "      <th>1949-04-01</th>\n",
       "      <td>-1.000000</td>\n",
       "    </tr>\n",
       "    <tr>\n",
       "      <th>1949-05-01</th>\n",
       "      <td>-1.000000</td>\n",
       "    </tr>\n",
       "    <tr>\n",
       "      <th>...</th>\n",
       "      <td>...</td>\n",
       "    </tr>\n",
       "    <tr>\n",
       "      <th>1960-07-01</th>\n",
       "      <td>-44.666667</td>\n",
       "    </tr>\n",
       "    <tr>\n",
       "      <th>1960-08-01</th>\n",
       "      <td>9.000000</td>\n",
       "    </tr>\n",
       "    <tr>\n",
       "      <th>1960-09-01</th>\n",
       "      <td>53.666667</td>\n",
       "    </tr>\n",
       "    <tr>\n",
       "      <th>1960-10-01</th>\n",
       "      <td>72.000000</td>\n",
       "    </tr>\n",
       "    <tr>\n",
       "      <th>1960-11-01</th>\n",
       "      <td>25.333333</td>\n",
       "    </tr>\n",
       "  </tbody>\n",
       "</table>\n",
       "<p>143 rows × 1 columns</p>\n",
       "</div>"
      ],
      "text/plain": [
       "                 pass\n",
       "Month                \n",
       "1949-01-01        NaN\n",
       "1949-02-01        NaN\n",
       "1949-03-01  -5.666667\n",
       "1949-04-01  -1.000000\n",
       "1949-05-01  -1.000000\n",
       "...               ...\n",
       "1960-07-01 -44.666667\n",
       "1960-08-01   9.000000\n",
       "1960-09-01  53.666667\n",
       "1960-10-01  72.000000\n",
       "1960-11-01  25.333333\n",
       "\n",
       "[143 rows x 1 columns]"
      ]
     },
     "execution_count": 19,
     "metadata": {},
     "output_type": "execute_result"
    }
   ],
   "source": [
    "d1 = D1.rolling(window=3).mean()\n",
    "d1"
   ]
  },
  {
   "cell_type": "code",
   "execution_count": 20,
   "id": "2381839c",
   "metadata": {},
   "outputs": [
    {
     "data": {
      "text/plain": [
       "(-2.8292668241699923,\n",
       " 0.054213290283826474,\n",
       " 12,\n",
       " 130,\n",
       " {'1%': -3.4816817173418295,\n",
       "  '5%': -2.8840418343195267,\n",
       "  '10%': -2.578770059171598},\n",
       " 988.5069317854084)"
      ]
     },
     "execution_count": 20,
     "metadata": {},
     "output_type": "execute_result"
    }
   ],
   "source": [
    "adfuller(D1)"
   ]
  },
  {
   "cell_type": "code",
   "execution_count": 21,
   "id": "f449750d",
   "metadata": {},
   "outputs": [],
   "source": [
    "D1.dropna(inplace=True)"
   ]
  },
  {
   "cell_type": "code",
   "execution_count": 22,
   "id": "4ad62a6e",
   "metadata": {},
   "outputs": [
    {
     "data": {
      "text/plain": [
       "0.054213290283826474"
      ]
     },
     "execution_count": 22,
     "metadata": {},
     "output_type": "execute_result"
    }
   ],
   "source": [
    "adfuller(D1)[1]"
   ]
  },
  {
   "cell_type": "code",
   "execution_count": 23,
   "id": "a07d0324",
   "metadata": {},
   "outputs": [
    {
     "data": {
      "text/plain": [
       "<Axes: xlabel='Month'>"
      ]
     },
     "execution_count": 23,
     "metadata": {},
     "output_type": "execute_result"
    },
    {
     "data": {
      "image/png": "[encoded data removed]",
      "text/plain": [
       "<Figure size 640x480 with 1 Axes>"
      ]
     },
     "metadata": {},
     "output_type": "display_data"
    }
   ],
   "source": [
    "df.plot.line() "
   ]
  },
  {
   "cell_type": "code",
   "execution_count": 24,
   "id": "70d3753c",
   "metadata": {},
   "outputs": [
    {
     "data": {
      "text/plain": [
       "<Axes: xlabel='Month'>"
      ]
     },
     "execution_count": 24,
     "metadata": {},
     "output_type": "execute_result"
    },
    {
     "data": {
      "image/png": "[encoded data removed]",
      "text/plain": [
       "<Figure size 640x480 with 1 Axes>"
      ]
     },
     "metadata": {},
     "output_type": "display_data"
    }
   ],
   "source": [
    "D1.plot.line()"
   ]
  },
  {
   "cell_type": "code",
   "execution_count": 25,
   "id": "492e0eef",
   "metadata": {},
   "outputs": [
    {
     "data": {
      "image/png": "[encoded data removed]",
      "text/plain": [
       "<Figure size 640x480 with 1 Axes>"
      ]
     },
     "metadata": {},
     "output_type": "display_data"
    }
   ],
   "source": [
    "plot_acf(df) # this show the out layer for the data \n",
    "plt.show()"
   ]
  },
  {
   "cell_type": "code",
   "execution_count": 26,
   "id": "472b7263",
   "metadata": {},
   "outputs": [
    {
     "data": {
      "image/png": "[encoded data removed]",
      "text/plain": [
       "<Figure size 640x480 with 1 Axes>"
      ]
     },
     "metadata": {},
     "output_type": "display_data"
    }
   ],
   "source": [
    "plot_pacf(df)\n",
    "plt.show()"
   ]
  },
  {
   "cell_type": "code",
   "execution_count": 29,
   "id": "a8bdd738",
   "metadata": {},
   "outputs": [],
   "source": [
    "import warnings\n",
    "warnings.filterwarnings('ignore')"
   ]
  },
  {
   "cell_type": "code",
   "execution_count": 30,
   "id": "89353c3c",
   "metadata": {},
   "outputs": [],
   "source": [
    "from statsmodels.tsa.arima.model import ARIMA # import the ARIMA  this model will The Autoregressive (AR), Integrated (I), and Moving Average (MA) \n",
    "#remove the outlayer and it also predefind modle "
   ]
  },
  {
   "cell_type": "code",
   "execution_count": 31,
   "id": "8fff12ec",
   "metadata": {},
   "outputs": [
    {
     "data": {
      "text/html": [
       "<table class=\"simpletable\">\n",
       "<caption>SARIMAX Results</caption>\n",
       "<tr>\n",
       "  <th>Dep. Variable:</th>         <td>pass</td>       <th>  No. Observations:  </th>    <td>144</td>  \n",
       "</tr>\n",
       "<tr>\n",
       "  <th>Model:</th>            <td>ARIMA(13, 1, 2)</td> <th>  Log Likelihood     </th> <td>-557.173</td>\n",
       "</tr>\n",
       "<tr>\n",
       "  <th>Date:</th>            <td>Sun, 07 Jul 2024</td> <th>  AIC                </th> <td>1146.346</td>\n",
       "</tr>\n",
       "<tr>\n",
       "  <th>Time:</th>                <td>12:27:55</td>     <th>  BIC                </th> <td>1193.751</td>\n",
       "</tr>\n",
       "<tr>\n",
       "  <th>Sample:</th>             <td>01-01-1949</td>    <th>  HQIC               </th> <td>1165.609</td>\n",
       "</tr>\n",
       "<tr>\n",
       "  <th></th>                   <td>- 12-01-1960</td>   <th>                     </th>     <td> </td>   \n",
       "</tr>\n",
       "<tr>\n",
       "  <th>Covariance Type:</th>        <td>opg</td>       <th>                     </th>     <td> </td>   \n",
       "</tr>\n",
       "</table>\n",
       "<table class=\"simpletable\">\n",
       "<tr>\n",
       "     <td></td>       <th>coef</th>     <th>std err</th>      <th>z</th>      <th>P>|z|</th>  <th>[0.025</th>    <th>0.975]</th>  \n",
       "</tr>\n",
       "<tr>\n",
       "  <th>ar.L1</th>  <td>   -0.4828</td> <td>    0.451</td> <td>   -1.070</td> <td> 0.285</td> <td>   -1.367</td> <td>    0.402</td>\n",
       "</tr>\n",
       "<tr>\n",
       "  <th>ar.L2</th>  <td>   -0.0743</td> <td>    0.099</td> <td>   -0.752</td> <td> 0.452</td> <td>   -0.268</td> <td>    0.119</td>\n",
       "</tr>\n",
       "<tr>\n",
       "  <th>ar.L3</th>  <td>   -0.0160</td> <td>    0.058</td> <td>   -0.276</td> <td> 0.782</td> <td>   -0.130</td> <td>    0.098</td>\n",
       "</tr>\n",
       "<tr>\n",
       "  <th>ar.L4</th>  <td>   -0.0709</td> <td>    0.046</td> <td>   -1.526</td> <td> 0.127</td> <td>   -0.162</td> <td>    0.020</td>\n",
       "</tr>\n",
       "<tr>\n",
       "  <th>ar.L5</th>  <td>    0.0205</td> <td>    0.059</td> <td>    0.351</td> <td> 0.726</td> <td>   -0.094</td> <td>    0.135</td>\n",
       "</tr>\n",
       "<tr>\n",
       "  <th>ar.L6</th>  <td>   -0.0609</td> <td>    0.061</td> <td>   -0.991</td> <td> 0.322</td> <td>   -0.181</td> <td>    0.060</td>\n",
       "</tr>\n",
       "<tr>\n",
       "  <th>ar.L7</th>  <td>   -0.0091</td> <td>    0.059</td> <td>   -0.155</td> <td> 0.877</td> <td>   -0.124</td> <td>    0.106</td>\n",
       "</tr>\n",
       "<tr>\n",
       "  <th>ar.L8</th>  <td>   -0.1259</td> <td>    0.050</td> <td>   -2.496</td> <td> 0.013</td> <td>   -0.225</td> <td>   -0.027</td>\n",
       "</tr>\n",
       "<tr>\n",
       "  <th>ar.L9</th>  <td>    0.0274</td> <td>    0.070</td> <td>    0.392</td> <td> 0.695</td> <td>   -0.110</td> <td>    0.164</td>\n",
       "</tr>\n",
       "<tr>\n",
       "  <th>ar.L10</th> <td>   -0.0803</td> <td>    0.079</td> <td>   -1.023</td> <td> 0.307</td> <td>   -0.234</td> <td>    0.074</td>\n",
       "</tr>\n",
       "<tr>\n",
       "  <th>ar.L11</th> <td>    0.0345</td> <td>    0.075</td> <td>    0.462</td> <td> 0.644</td> <td>   -0.112</td> <td>    0.181</td>\n",
       "</tr>\n",
       "<tr>\n",
       "  <th>ar.L12</th> <td>    0.8500</td> <td>    0.068</td> <td>   12.511</td> <td> 0.000</td> <td>    0.717</td> <td>    0.983</td>\n",
       "</tr>\n",
       "<tr>\n",
       "  <th>ar.L13</th> <td>    0.5138</td> <td>    0.371</td> <td>    1.385</td> <td> 0.166</td> <td>   -0.214</td> <td>    1.241</td>\n",
       "</tr>\n",
       "<tr>\n",
       "  <th>ma.L1</th>  <td>    0.2282</td> <td>    0.460</td> <td>    0.496</td> <td> 0.620</td> <td>   -0.674</td> <td>    1.130</td>\n",
       "</tr>\n",
       "<tr>\n",
       "  <th>ma.L2</th>  <td>   -0.0583</td> <td>    0.253</td> <td>   -0.230</td> <td> 0.818</td> <td>   -0.554</td> <td>    0.438</td>\n",
       "</tr>\n",
       "<tr>\n",
       "  <th>sigma2</th> <td>  118.8556</td> <td>   14.572</td> <td>    8.157</td> <td> 0.000</td> <td>   90.296</td> <td>  147.415</td>\n",
       "</tr>\n",
       "</table>\n",
       "<table class=\"simpletable\">\n",
       "<tr>\n",
       "  <th>Ljung-Box (L1) (Q):</th>     <td>0.05</td> <th>  Jarque-Bera (JB):  </th> <td>7.45</td>\n",
       "</tr>\n",
       "<tr>\n",
       "  <th>Prob(Q):</th>                <td>0.83</td> <th>  Prob(JB):          </th> <td>0.02</td>\n",
       "</tr>\n",
       "<tr>\n",
       "  <th>Heteroskedasticity (H):</th> <td>3.71</td> <th>  Skew:              </th> <td>0.05</td>\n",
       "</tr>\n",
       "<tr>\n",
       "  <th>Prob(H) (two-sided):</th>    <td>0.00</td> <th>  Kurtosis:          </th> <td>4.11</td>\n",
       "</tr>\n",
       "</table><br/><br/>Warnings:<br/>[1] Covariance matrix calculated using the outer product of gradients (complex-step)."
      ],
      "text/latex": [
       "\\begin{center}\n",
       "\\begin{tabular}{lclc}\n",
       "\\toprule\n",
       "\\textbf{Dep. Variable:}          &       pass       & \\textbf{  No. Observations:  } &    144      \\\\\n",
       "\\textbf{Model:}                  & ARIMA(13, 1, 2)  & \\textbf{  Log Likelihood     } &  -557.173   \\\\\n",
       "\\textbf{Date:}                   & Sun, 07 Jul 2024 & \\textbf{  AIC                } &  1146.346   \\\\\n",
       "\\textbf{Time:}                   &     12:27:55     & \\textbf{  BIC                } &  1193.751   \\\\\n",
       "\\textbf{Sample:}                 &    01-01-1949    & \\textbf{  HQIC               } &  1165.609   \\\\\n",
       "\\textbf{}                        &   - 12-01-1960   & \\textbf{                     } &             \\\\\n",
       "\\textbf{Covariance Type:}        &       opg        & \\textbf{                     } &             \\\\\n",
       "\\bottomrule\n",
       "\\end{tabular}\n",
       "\\begin{tabular}{lcccccc}\n",
       "                & \\textbf{coef} & \\textbf{std err} & \\textbf{z} & \\textbf{P$> |$z$|$} & \\textbf{[0.025} & \\textbf{0.975]}  \\\\\n",
       "\\midrule\n",
       "\\textbf{ar.L1}  &      -0.4828  &        0.451     &    -1.070  &         0.285        &       -1.367    &        0.402     \\\\\n",
       "\\textbf{ar.L2}  &      -0.0743  &        0.099     &    -0.752  &         0.452        &       -0.268    &        0.119     \\\\\n",
       "\\textbf{ar.L3}  &      -0.0160  &        0.058     &    -0.276  &         0.782        &       -0.130    &        0.098     \\\\\n",
       "\\textbf{ar.L4}  &      -0.0709  &        0.046     &    -1.526  &         0.127        &       -0.162    &        0.020     \\\\\n",
       "\\textbf{ar.L5}  &       0.0205  &        0.059     &     0.351  &         0.726        &       -0.094    &        0.135     \\\\\n",
       "\\textbf{ar.L6}  &      -0.0609  &        0.061     &    -0.991  &         0.322        &       -0.181    &        0.060     \\\\\n",
       "\\textbf{ar.L7}  &      -0.0091  &        0.059     &    -0.155  &         0.877        &       -0.124    &        0.106     \\\\\n",
       "\\textbf{ar.L8}  &      -0.1259  &        0.050     &    -2.496  &         0.013        &       -0.225    &       -0.027     \\\\\n",
       "\\textbf{ar.L9}  &       0.0274  &        0.070     &     0.392  &         0.695        &       -0.110    &        0.164     \\\\\n",
       "\\textbf{ar.L10} &      -0.0803  &        0.079     &    -1.023  &         0.307        &       -0.234    &        0.074     \\\\\n",
       "\\textbf{ar.L11} &       0.0345  &        0.075     &     0.462  &         0.644        &       -0.112    &        0.181     \\\\\n",
       "\\textbf{ar.L12} &       0.8500  &        0.068     &    12.511  &         0.000        &        0.717    &        0.983     \\\\\n",
       "\\textbf{ar.L13} &       0.5138  &        0.371     &     1.385  &         0.166        &       -0.214    &        1.241     \\\\\n",
       "\\textbf{ma.L1}  &       0.2282  &        0.460     &     0.496  &         0.620        &       -0.674    &        1.130     \\\\\n",
       "\\textbf{ma.L2}  &      -0.0583  &        0.253     &    -0.230  &         0.818        &       -0.554    &        0.438     \\\\\n",
       "\\textbf{sigma2} &     118.8556  &       14.572     &     8.157  &         0.000        &       90.296    &      147.415     \\\\\n",
       "\\bottomrule\n",
       "\\end{tabular}\n",
       "\\begin{tabular}{lclc}\n",
       "\\textbf{Ljung-Box (L1) (Q):}     & 0.05 & \\textbf{  Jarque-Bera (JB):  } & 7.45  \\\\\n",
       "\\textbf{Prob(Q):}                & 0.83 & \\textbf{  Prob(JB):          } & 0.02  \\\\\n",
       "\\textbf{Heteroskedasticity (H):} & 3.71 & \\textbf{  Skew:              } & 0.05  \\\\\n",
       "\\textbf{Prob(H) (two-sided):}    & 0.00 & \\textbf{  Kurtosis:          } & 4.11  \\\\\n",
       "\\bottomrule\n",
       "\\end{tabular}\n",
       "%\\caption{SARIMAX Results}\n",
       "\\end{center}\n",
       "\n",
       "Warnings: \\newline\n",
       " [1] Covariance matrix calculated using the outer product of gradients (complex-step)."
      ],
      "text/plain": [
       "<class 'statsmodels.iolib.summary.Summary'>\n",
       "\"\"\"\n",
       "                               SARIMAX Results                                \n",
       "==============================================================================\n",
       "Dep. Variable:                   pass   No. Observations:                  144\n",
       "Model:                ARIMA(13, 1, 2)   Log Likelihood                -557.173\n",
       "Date:                Sun, 07 Jul 2024   AIC                           1146.346\n",
       "Time:                        12:27:55   BIC                           1193.751\n",
       "Sample:                    01-01-1949   HQIC                          1165.609\n",
       "                         - 12-01-1960                                         \n",
       "Covariance Type:                  opg                                         \n",
       "==============================================================================\n",
       "                 coef    std err          z      P>|z|      [0.025      0.975]\n",
       "------------------------------------------------------------------------------\n",
       "ar.L1         -0.4828      0.451     -1.070      0.285      -1.367       0.402\n",
       "ar.L2         -0.0743      0.099     -0.752      0.452      -0.268       0.119\n",
       "ar.L3         -0.0160      0.058     -0.276      0.782      -0.130       0.098\n",
       "ar.L4         -0.0709      0.046     -1.526      0.127      -0.162       0.020\n",
       "ar.L5          0.0205      0.059      0.351      0.726      -0.094       0.135\n",
       "ar.L6         -0.0609      0.061     -0.991      0.322      -0.181       0.060\n",
       "ar.L7         -0.0091      0.059     -0.155      0.877      -0.124       0.106\n",
       "ar.L8         -0.1259      0.050     -2.496      0.013      -0.225      -0.027\n",
       "ar.L9          0.0274      0.070      0.392      0.695      -0.110       0.164\n",
       "ar.L10        -0.0803      0.079     -1.023      0.307      -0.234       0.074\n",
       "ar.L11         0.0345      0.075      0.462      0.644      -0.112       0.181\n",
       "ar.L12         0.8500      0.068     12.511      0.000       0.717       0.983\n",
       "ar.L13         0.5138      0.371      1.385      0.166      -0.214       1.241\n",
       "ma.L1          0.2282      0.460      0.496      0.620      -0.674       1.130\n",
       "ma.L2         -0.0583      0.253     -0.230      0.818      -0.554       0.438\n",
       "sigma2       118.8556     14.572      8.157      0.000      90.296     147.415\n",
       "===================================================================================\n",
       "Ljung-Box (L1) (Q):                   0.05   Jarque-Bera (JB):                 7.45\n",
       "Prob(Q):                              0.83   Prob(JB):                         0.02\n",
       "Heteroskedasticity (H):               3.71   Skew:                             0.05\n",
       "Prob(H) (two-sided):                  0.00   Kurtosis:                         4.11\n",
       "===================================================================================\n",
       "\n",
       "Warnings:\n",
       "[1] Covariance matrix calculated using the outer product of gradients (complex-step).\n",
       "\"\"\""
      ]
     },
     "execution_count": 31,
     "metadata": {},
     "output_type": "execute_result"
    }
   ],
   "source": [
    "mdl = ARIMA(df, order=(13,1,2)).fit()\n",
    "mdl.summary()"
   ]
  },
  {
   "cell_type": "code",
   "execution_count": 33,
   "id": "9bca03c6",
   "metadata": {},
   "outputs": [],
   "source": [
    "yp = mdl.predict(start='1960-04-01', end='1962-12-01') # this is the plot where predict data can be see in the "
   ]
  },
  {
   "cell_type": "code",
   "execution_count": 34,
   "id": "bb31a69d",
   "metadata": {},
   "outputs": [
    {
     "data": {
      "text/plain": [
       "[<matplotlib.lines.Line2D at 0x1ec39a6a1d0>]"
      ]
     },
     "execution_count": 34,
     "metadata": {},
     "output_type": "execute_result"
    },
    {
     "data": {
      "image/png": "[encoded data removed]",
      "text/plain": [
       "<Figure size 640x480 with 1 Axes>"
      ]
     },
     "metadata": {},
     "output_type": "display_data"
    }
   ],
   "source": [
    "plt.plot(df)\n",
    "plt.plot(yp)"
   ]
  },
  {
   "cell_type": "code",
   "execution_count": null,
   "id": "9d9a7fa4",
   "metadata": {},
   "outputs": [],
   "source": []
  }
 ],
 "metadata": {
  "kernelspec": {
   "display_name": "Python 3 (ipykernel)",
   "language": "python",
   "name": "python3"
  },
  "language_info": {
   "codemirror_mode": {
    "name": "ipython",
    "version": 3
   },
   "file_extension": ".py",
   "mimetype": "text/x-python",
   "name": "python",
   "nbconvert_exporter": "python",
   "pygments_lexer": "ipython3",
   "version": "3.11.4"
  }
 },
 "nbformat": 4,
 "nbformat_minor": 5
}
